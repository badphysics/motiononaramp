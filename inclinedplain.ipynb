{
 "cells": [
  {
   "cell_type": "code",
   "execution_count": 126,
   "metadata": {},
   "outputs": [
    {
     "data": {
      "text/html": [
       "<script>\n",
       "code_show=true; \n",
       "function code_toggle() {\n",
       " if (code_show){\n",
       " $('div.input').hide();\n",
       " } else {\n",
       " $('div.input').show();\n",
       " }\n",
       " code_show = !code_show\n",
       "} \n",
       "$( document ).ready(code_toggle);\n",
       "</script>\n",
       "<form action=\"javascript:code_toggle()\"><input type=\"submit\" value=\"Click here to toggle on/off the raw code.\"></form>"
      ],
      "text/plain": [
       "<IPython.core.display.HTML object>"
      ]
     },
     "execution_count": 126,
     "metadata": {},
     "output_type": "execute_result"
    }
   ],
   "source": [
    "from IPython.display import HTML\n",
    "\n",
    "HTML('''<script>\n",
    "code_show=true; \n",
    "function code_toggle() {\n",
    " if (code_show){\n",
    " $('div.input').hide();\n",
    " } else {\n",
    " $('div.input').show();\n",
    " }\n",
    " code_show = !code_show\n",
    "} \n",
    "$( document ).ready(code_toggle);\n",
    "</script>\n",
    "<form action=\"javascript:code_toggle()\"><input type=\"submit\" value=\"Click here to toggle on/off the raw code.\"></form>''')"
   ]
  },
  {
   "cell_type": "code",
   "execution_count": 116,
   "metadata": {
    "collapsed": true
   },
   "outputs": [],
   "source": [
    "from __future__ import print_function\n",
    "from ipywidgets import interact, interactive, fixed, interact_manual\n",
    "import ipywidgets as widgets"
   ]
  },
  {
   "cell_type": "code",
   "execution_count": 117,
   "metadata": {
    "collapsed": true
   },
   "outputs": [],
   "source": [
    "import numpy as np\n",
    "import matplotlib.pyplot as plt\n",
    "import numpy as np\n",
    "import matplotlib.pyplot as plt"
   ]
  },
  {
   "cell_type": "code",
   "execution_count": 131,
   "metadata": {},
   "outputs": [],
   "source": [
    "m=4.\n",
    "theta = np.pi/4\n",
    "def incline(m,theta):\n",
    "    ax = plt.figure(figsize=(5,5))\n",
    "    _ = plt.plot([-1,1],[-np.tan(theta),np.tan(theta)])\n",
    "    _ = plt.plot([np.tan(theta),-np.tan(theta)],[-1,1], ':')\n",
    "    slope = (np.tan(theta)+np.tan(theta))/2\n",
    "    _ = plt.plot([0, (0+.2*m)/2],[-.2*m, -(0+.2*m)/2])\n",
    "    _ = plt.title(\"Boo\")\n",
    "    _ = plt.grid()\n",
    "    _ = plt.xlim(-1.5,1.5)\n",
    "    _ = plt.ylim(-1.5,1.5)\n",
    "    _ = plt.gca().set_aspect('equal',adjustable='box')\n",
    "    _ = plt.arrow(0.,0.,0,-.2*m, linewidth = 2., head_width = 0.09, head_length = 0.05)\n",
    "    plt.show()\n",
    "\n",
    "def incline2(theta1):\n",
    "    theta = 2*np.pi*(theta1/360)\n",
    "    plt.figure(figsize=(15,15))\n",
    "    y1 = -np.tan(theta)\n",
    "    y2 = -y1\n",
    "    x1 = -1\n",
    "    x2 = 1\n",
    "    axi = 0\n",
    "    axf = 0\n",
    "    ayi = 0\n",
    "    m = 2.6\n",
    "    ayf = -.4*m\n",
    "    plt.subplot(121)\n",
    "    plt.rcParams.update({'font.size': 22})\n",
    "    plt.plot([x1,x2],[y1,y2],label=\"Slope\",linewidth=3)\n",
    "    plt.plot([-y1,-y2],[x1,x2], ':',label=\"Normal\",linewidth=3)\n",
    "    slope = (y2-y1)/(x2 -x1)\n",
    "    slope2 = -1/slope\n",
    "    plt.plot([axf, ayf/(slope2-slope)],[ayf, slope2*ayf/(slope2-slope)],linewidth=3)\n",
    "    plt.plot([ayf/(slope2-slope),0],[slope2*ayf/(slope2-slope),0],linewidth=3)\n",
    "\n",
    "    \n",
    "    plt.title(\"Motion on an incline\")\n",
    "    plt.legend()\n",
    "    plt.grid()\n",
    "    plt.xlim(-1.25,1.25)\n",
    "    plt.ylim(-1.25,1.25)\n",
    "    plt.gca().set_aspect('equal',adjustable='box')\n",
    "    plt.arrow(0.,0.,0,ayf, linewidth = 2., head_width = 0.09, head_length = 0.05,label=\"freefall acceleration\")\n",
    "    plt.annotate(\"a\", xy=(.4, 0), xytext=(0.1, ayf/2),color='k',size=28)\n",
    "    plt.axis('off')\n",
    "    \n",
    "    plt.subplot(122)\n",
    "    plt.grid()\n",
    "    plt.title(\"Position of object with respect to time\")\n",
    "    plt.ylabel(\"position on incline\")\n",
    "    plt.xlabel(\"time\")\n",
    "    Ax = 9.8*np.sin(theta)\n",
    "    d3 = \"%2.3f\" % np.sqrt(2*360/Ax)\n",
    "    text1 = \"time to bottom: \" + d3\n",
    "    plt.annotate(text1, xy = (1,1), xytext=(2,300))\n",
    "    \n",
    "    t = np.linspace(0,np.sqrt(2*360/Ax))\n",
    "    x = 0.5*Ax*t**2\n",
    "    \n",
    "    plt.plot(t,x)\n",
    "    plt.show()\n",
    "\n"
   ]
  },
  {
   "cell_type": "markdown",
   "metadata": {},
   "source": [
    "# Motion on an incline plane example\n",
    "\n",
    "\n",
    "## Problem\n",
    "\n",
    "Consider a skier starting at rest at the top of a hill.  The skier travels 360 m while dropping a vertical distance of 170m.\n",
    "\n",
    "How much time does it take for the skier to reach the bottom?\n",
    "(Answer: about 13 seconds)\n",
    "\n"
   ]
  },
  {
   "cell_type": "markdown",
   "metadata": {},
   "source": [
    "## Now you explore.\n",
    "\n",
    "In the following change the angle of the incline (or vertical drop) to change the motion of the skier.  Note how the time to get to the bottom of the hill changes as the angle of the hill changes.  Also, note the projection of the acceleration onto the incline changes with respect to the angle."
   ]
  },
  {
   "cell_type": "code",
   "execution_count": 132,
   "metadata": {
    "scrolled": false
   },
   "outputs": [
    {
     "data": {
      "application/vnd.jupyter.widget-view+json": {
       "model_id": "3593c4ff3350462a825faa86617bd6e0",
       "version_major": 2,
       "version_minor": 0
      },
      "text/plain": [
       "A Jupyter Widget"
      ]
     },
     "metadata": {},
     "output_type": "display_data"
    }
   ],
   "source": [
    "#incline(m,np.pi/6)\n",
    "i = interact(incline2,theta1=widgets.FloatSlider(min=0,max=90,step=2,value=1,description='Angle'))"
   ]
  }
 ],
 "metadata": {
  "kernelspec": {
   "display_name": "Python 3",
   "language": "python",
   "name": "python3"
  },
  "language_info": {
   "codemirror_mode": {
    "name": "ipython",
    "version": 3
   },
   "file_extension": ".py",
   "mimetype": "text/x-python",
   "name": "python",
   "nbconvert_exporter": "python",
   "pygments_lexer": "ipython3",
   "version": "3.6.8"
  }
 },
 "nbformat": 4,
 "nbformat_minor": 2
}
